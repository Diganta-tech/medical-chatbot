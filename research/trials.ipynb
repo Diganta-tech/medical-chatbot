{
 "cells": [
  {
   "cell_type": "code",
   "execution_count": null,
   "id": "09b44c1d",
   "metadata": {},
   "outputs": [],
   "source": [
    "import sys\n",
    "!{sys.executable} -m pip install langchain\n"
   ]
  },
  {
   "cell_type": "code",
   "execution_count": null,
   "id": "fe94ff49",
   "metadata": {},
   "outputs": [],
   "source": [
    "%pip install sentence-transformers"
   ]
  },
  {
   "cell_type": "code",
   "execution_count": null,
   "id": "372fc902",
   "metadata": {},
   "outputs": [],
   "source": [
    "%pip install pinecone[grpc] langchain-pinecone"
   ]
  },
  {
   "cell_type": "code",
   "execution_count": null,
   "id": "bfd69c67",
   "metadata": {},
   "outputs": [],
   "source": [
    "%pip install pypdf"
   ]
  },
  {
   "cell_type": "code",
   "execution_count": null,
   "id": "481507f6",
   "metadata": {},
   "outputs": [],
   "source": [
    "%pip install langchain_community langchain_experimental lanngchain_openai"
   ]
  },
  {
   "cell_type": "code",
   "execution_count": 12,
   "id": "148d61a0",
   "metadata": {},
   "outputs": [
    {
     "name": "stdout",
     "output_type": "stream",
     "text": [
      "0.3.27\n"
     ]
    }
   ],
   "source": [
    "import langchain\n",
    "print(langchain.__version__)\n"
   ]
  },
  {
   "cell_type": "code",
   "execution_count": 13,
   "id": "7a8fb944",
   "metadata": {},
   "outputs": [],
   "source": [
    "from langchain.document_loaders import PyPDFLoader,DirectoryLoader\n",
    "from langchain_text_splitters import RecursiveCharacterTextSplitter"
   ]
  },
  {
   "cell_type": "code",
   "execution_count": 10,
   "id": "fef22e4d",
   "metadata": {},
   "outputs": [],
   "source": [
    "# Extract Data From the PDF File\n",
    "def load_pdf_file(book):\n",
    "    loader=DirectoryLoader(book,\n",
    "                           glob=\"*.pdf\",\n",
    "                           loader_cls=PyPDFLoader)\n",
    "    documents=loader.load()\n",
    "\n",
    "    return documents"
   ]
  },
  {
   "cell_type": "code",
   "execution_count": 14,
   "id": "eae3f8b0",
   "metadata": {},
   "outputs": [],
   "source": [
    "extracted_data=load_pdf_file(book='book/')"
   ]
  },
  {
   "cell_type": "code",
   "execution_count": null,
   "id": "04c7de59",
   "metadata": {},
   "outputs": [],
   "source": [
    "#extracted_data"
   ]
  },
  {
   "cell_type": "code",
   "execution_count": 15,
   "id": "68f99493",
   "metadata": {},
   "outputs": [],
   "source": [
    "# Split the Data into Text Chunks\n",
    "def text_split(extracted_data):\n",
    "    text_splitter=RecursiveCharacterTextSplitter(chunk_size=500, chunk_overlap=20)\n",
    "    text_chunks=text_splitter.split_documents(extracted_data)\n",
    "    return text_chunks"
   ]
  },
  {
   "cell_type": "code",
   "execution_count": 16,
   "id": "1eb5c71d",
   "metadata": {},
   "outputs": [
    {
     "name": "stdout",
     "output_type": "stream",
     "text": [
      "length of text chunks 24071\n"
     ]
    }
   ],
   "source": [
    "text_chunks=text_split(extracted_data)\n",
    "print(\"length of text chunks\",len(text_chunks))"
   ]
  },
  {
   "cell_type": "code",
   "execution_count": null,
   "id": "60118e18",
   "metadata": {},
   "outputs": [],
   "source": [
    "#text_chunks"
   ]
  },
  {
   "cell_type": "code",
   "execution_count": 22,
   "id": "1c261b11",
   "metadata": {},
   "outputs": [],
   "source": [
    "from langchain.embeddings import HuggingFaceEmbeddings"
   ]
  },
  {
   "cell_type": "code",
   "execution_count": 24,
   "id": "d02c2c6a",
   "metadata": {},
   "outputs": [],
   "source": [
    "# Download the Embeddings from Hugging Face\n",
    "def download_hugging_face_embeddings():\n",
    "    embeddings=HuggingFaceEmbeddings(model_name='sentence-transformers/all-MiniLM-L6-v2')\n",
    "    return embeddings"
   ]
  },
  {
   "cell_type": "code",
   "execution_count": 25,
   "id": "ab1d85af",
   "metadata": {},
   "outputs": [
    {
     "name": "stderr",
     "output_type": "stream",
     "text": [
      "C:\\Users\\DIGANTA\\AppData\\Local\\Temp\\ipykernel_5796\\1085893552.py:3: LangChainDeprecationWarning: The class `HuggingFaceEmbeddings` was deprecated in LangChain 0.2.2 and will be removed in 1.0. An updated version of the class exists in the :class:`~langchain-huggingface package and should be used instead. To use it run `pip install -U :class:`~langchain-huggingface` and import as `from :class:`~langchain_huggingface import HuggingFaceEmbeddings``.\n",
      "  embeddings=HuggingFaceEmbeddings(model_name='sentence-transformers/all-MiniLM-L6-v2')\n"
     ]
    }
   ],
   "source": [
    "embeddings=download_hugging_face_embeddings()"
   ]
  },
  {
   "cell_type": "code",
   "execution_count": null,
   "id": "84d9f9cd",
   "metadata": {},
   "outputs": [],
   "source": [
    "%pip install python-dotenv\n"
   ]
  },
  {
   "cell_type": "code",
   "execution_count": 33,
   "id": "b840ee77",
   "metadata": {},
   "outputs": [
    {
     "data": {
      "text/plain": [
       "True"
      ]
     },
     "execution_count": 33,
     "metadata": {},
     "output_type": "execute_result"
    }
   ],
   "source": [
    "from dotenv import load_dotenv\n",
    "load_dotenv()"
   ]
  },
  {
   "cell_type": "code",
   "execution_count": null,
   "id": "cf1858a7",
   "metadata": {},
   "outputs": [],
   "source": [
    "import os\n",
    "PINECONE_API_KEY=os.environ.get('PINECONE_API_KEY')\n",
    "#OPENAI_API_KEY=os.environ.get('OPENAI_API_KEY')"
   ]
  },
  {
   "cell_type": "code",
   "execution_count": null,
   "id": "4ec7c16a",
   "metadata": {},
   "outputs": [],
   "source": [
    "from pinecone.grpc import PineconeGRPC as Pinecone\n",
    "from pinecone import ServerlessSpec\n",
    "\n",
    "pc = Pinecone(api_key=PINECONE_API_KEY)\n",
    "\n",
    "index_name = \"medicalbot\"\n",
    "\n",
    "if index_name not in pc.list_indexes():\n",
    "    pc.create_index(\n",
    "        name=index_name,\n",
    "        dimension=384, \n",
    "        metric=\"cosine\",\n",
    "        spec=ServerlessSpec(\n",
    "            cloud=\"aws\",\n",
    "            region=\"us-east-1\"\n",
    "        )\n",
    "    )\n"
   ]
  },
  {
   "cell_type": "code",
   "execution_count": null,
   "id": "349ef8af",
   "metadata": {},
   "outputs": [],
   "source": [
    "os.environ['PINECONE_API_KEY']=PINECONE_API_KEY\n",
    "#os.environ['OPENAI_API_KEY']=OPENAI_API_KEY"
   ]
  },
  {
   "cell_type": "code",
   "execution_count": null,
   "id": "0dd8568b",
   "metadata": {},
   "outputs": [],
   "source": [
    "# Embed each chunk and upsert the embeddings into your Pinecone index\n",
    "from langchain_pinecone import PineconeVectorStore\n",
    "\n",
    "docsearch=PineconeVectorStore.from_documents(\n",
    "    documents=text_chunks,\n",
    "    index_name=index_name,\n",
    "    embedding=embeddings,\n",
    ")"
   ]
  },
  {
   "cell_type": "markdown",
   "id": "cde38a6b",
   "metadata": {},
   "source": [
    "nicher code gulo lagbe na,,openai use korle lagto"
   ]
  },
  {
   "cell_type": "code",
   "execution_count": 27,
   "id": "7ecdccc4",
   "metadata": {},
   "outputs": [],
   "source": [
    "# Load Existing index\n",
    "\n",
    "from langchain_pinecone import PineconeVectorStore\n",
    "docsearch=PineconeVectorStore.from_existing_index(\n",
    "    index_name=index_name,\n",
    "    embedding=embeddings,\n",
    ")"
   ]
  },
  {
   "cell_type": "code",
   "execution_count": 28,
   "id": "8f35a113",
   "metadata": {},
   "outputs": [
    {
     "data": {
      "text/plain": [
       "<langchain_pinecone.vectorstores.PineconeVectorStore at 0x1e169336a70>"
      ]
     },
     "execution_count": 28,
     "metadata": {},
     "output_type": "execute_result"
    }
   ],
   "source": [
    "docsearch"
   ]
  },
  {
   "cell_type": "code",
   "execution_count": 29,
   "id": "3fe80ddf",
   "metadata": {},
   "outputs": [],
   "source": [
    "retriever= docsearch.as_retriever(search_type=\"similarity\",search_kwargs={\"k\":3})"
   ]
  },
  {
   "cell_type": "code",
   "execution_count": 30,
   "id": "3d17a79e",
   "metadata": {},
   "outputs": [],
   "source": [
    "retrieved_docs=retriever.invoke(\"What is HIV?\")"
   ]
  },
  {
   "cell_type": "code",
   "execution_count": 31,
   "id": "c00acd21",
   "metadata": {},
   "outputs": [
    {
     "data": {
      "text/plain": [
       "[Document(id='e8e11c5e-20ef-4cb4-b71f-2c102b39ef9a', metadata={'author': 'Maxine A. Papadakis, Stephen J. McPhee, Michael W. Rabow, Kenneth R. McQuaid', 'creationdate': '2021-08-16T16:32:47+00:00', 'creator': 'Adobe Distiller dc', 'moddate': '2022-03-09T21:12:40-03:00', 'page': 1392.0, 'page_label': '1393', 'producer': 'Adobe PDF Library 15.0', 'source': 'book\\\\Medical Book.pdf', 'title': 'CURRENT Medical Diagnosis and Treatment 2022', 'total_pages': 1874.0}, page_content='S\\ue045ciety \\ue045fAmerica. https://clinicalinf\\ue045.hiv.g\\ue045v/sites/default/files/guide-lines/d\\ue045cuments/Adult_OI.pdf. Updated 2020 May 26.CMDT22_Ch31_p1331-p1373.indd'),\n",
       " Document(id='2bc769ad-178b-4fcc-bded-5b62dfff3639', metadata={'author': 'Maxine A. Papadakis, Stephen J. McPhee, Michael W. Rabow, Kenneth R. McQuaid', 'creationdate': '2021-08-16T16:32:47+00:00', 'creator': 'Adobe Distiller dc', 'moddate': '2022-03-09T21:12:40-03:00', 'page': 1406.0, 'page_label': '1407', 'producer': 'Adobe PDF Library 15.0', 'source': 'book\\\\Medical Book.pdf', 'title': 'CURRENT Medical Diagnosis and Treatment 2022', 'total_pages': 1874.0}, page_content='(evidence for systemicsymptoms or organ invasion by pathologic diagnosis) isimportant. In addition to people living with HIV , those'),\n",
       " Document(id='7a522adc-57cc-44ef-bac2-97d900f084a8', metadata={'author': 'Maxine A. Papadakis, Stephen J. McPhee, Michael W. Rabow, Kenneth R. McQuaid', 'creationdate': '2021-08-16T16:32:47+00:00', 'creator': 'Adobe Distiller dc', 'moddate': '2022-03-09T21:12:40-03:00', 'page': 1372.0, 'page_label': '1373', 'producer': 'Adobe PDF Library 15.0', 'source': 'book\\\\Medical Book.pdf', 'title': 'CURRENT Medical Diagnosis and Treatment 2022', 'total_pages': 1874.0}, page_content='has a known HIV-infected partnerPatient has a history of sexually transmitted diseasesPatient has a high number of sex partnersPatient is a commercial sex workerPatient with inconsistent or no condom usePatient who has been incarcerated or who has partners thathave been incarceratedPatient is from or whose partners are from an area where HIVincidence is highPatient who is sharing needles or related paraphernalia (“works”)Ini\\ue032i\\ue021l \\ue021ss\\ue025ssm\\ue025n\\ue032 b\\ue025fo\\ue030\\ue025 \\ue02f\\ue030\\ue025sc\\ue030ibing p\\ue030epHIV antibody test to confirm HIV')]"
      ]
     },
     "execution_count": 31,
     "metadata": {},
     "output_type": "execute_result"
    }
   ],
   "source": [
    "retrieved_docs"
   ]
  },
  {
   "cell_type": "code",
   "execution_count": 36,
   "id": "6e2e1fae",
   "metadata": {},
   "outputs": [],
   "source": [
    "from langchain_openai import OpenAI\n",
    "llm=OpenAI(temperature=0.4, max_tokens=500)"
   ]
  },
  {
   "cell_type": "code",
   "execution_count": 37,
   "id": "3a3ce713",
   "metadata": {},
   "outputs": [],
   "source": [
    "from langchain.chains import create_retrieval_chain\n",
    "from langchain.chains.combine_documents import create_stuff_documents_chain\n",
    "from langchain_core.prompts import ChatPromptTemplate\n",
    "\n",
    "system_prompt=(\n",
    "    \"You are an assistant for question-answering tasks. \"\n",
    "    \"Use the following pieces of retrieved context to answer \"\n",
    "    \"the question. If you don't know the answer, say that you \"\n",
    "    \"don't know. Use three sentences maximum and keep the answer concise.\"\n",
    "    \"\\n\\n\"\n",
    "    \"{context}\"\n",
    ")\n",
    "\n",
    "prompt= ChatPromptTemplate.from_messages(\n",
    "    [\n",
    "        (\"system\", system_prompt),\n",
    "        (\"human\", \"{input}\"),\n",
    "    ]\n",
    ")"
   ]
  },
  {
   "cell_type": "code",
   "execution_count": 39,
   "id": "f5cfda80",
   "metadata": {},
   "outputs": [],
   "source": [
    "question_answer_chain= create_stuff_documents_chain(llm,prompt)\n",
    "rag_chain=create_retrieval_chain(retriever,question_answer_chain)"
   ]
  }
 ],
 "metadata": {
  "kernelspec": {
   "display_name": "rasaenv",
   "language": "python",
   "name": "python3"
  },
  "language_info": {
   "codemirror_mode": {
    "name": "ipython",
    "version": 3
   },
   "file_extension": ".py",
   "mimetype": "text/x-python",
   "name": "python",
   "nbconvert_exporter": "python",
   "pygments_lexer": "ipython3",
   "version": "3.10.11"
  }
 },
 "nbformat": 4,
 "nbformat_minor": 5
}
